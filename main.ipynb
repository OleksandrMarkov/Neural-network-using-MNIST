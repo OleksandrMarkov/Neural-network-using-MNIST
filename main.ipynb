{
 "cells": [
  {
   "cell_type": "code",
   "execution_count": 15,
   "id": "f1d7387c",
   "metadata": {},
   "outputs": [],
   "source": [
    "import numpy\n",
    "\n",
    "class neuralNetwork:\n",
    "    def __init__(self, input_nodes, hidden_nodes, output_nodes, learning_rate):\n",
    "        # nodes\n",
    "        self.input_nodes = input_nodes\n",
    "        self.hidden_nodes = hidden_nodes\n",
    "        self.output_nodes = output_nodes\n",
    "        \n",
    "        # learing rate\n",
    "        self.learning_rate = learning_rate\n",
    "        \n",
    "        # weights between input and hidden layers\n",
    "        self.wih = numpy.random.normal(0.0, pow(self.hidden_nodes, -0.5),\\\n",
    "        (self.hidden_nodes, self.input_nodes))\n",
    "        \n",
    "        # weights between hidden and output layers\n",
    "        self.who = numpy.random.normal(0.0, pow(self.output_nodes, -0.5),\\\n",
    "        (self.output_nodes, self.hidden_nodes))\n",
    "        \n",
    "    def train():\n",
    "        pass\n",
    "    \n",
    "    def query():\n",
    "        pass    "
   ]
  },
  {
   "cell_type": "code",
   "execution_count": 16,
   "id": "9b2604bb",
   "metadata": {},
   "outputs": [],
   "source": [
    "input_nodes = 3\n",
    "hidden_nodes = 3\n",
    "output_nodes = 3\n",
    "\n",
    "learning_rate = 0.3\n",
    "\n",
    "n = neuralNetwork(input_nodes, hidden_nodes, output_nodes, learning_rate)"
   ]
  },
  {
   "cell_type": "code",
   "execution_count": null,
   "id": "bd408611",
   "metadata": {},
   "outputs": [],
   "source": []
  }
 ],
 "metadata": {
  "kernelspec": {
   "display_name": "Python 3 (ipykernel)",
   "language": "python",
   "name": "python3"
  },
  "language_info": {
   "codemirror_mode": {
    "name": "ipython",
    "version": 3
   },
   "file_extension": ".py",
   "mimetype": "text/x-python",
   "name": "python",
   "nbconvert_exporter": "python",
   "pygments_lexer": "ipython3",
   "version": "3.9.13"
  }
 },
 "nbformat": 4,
 "nbformat_minor": 5
}
