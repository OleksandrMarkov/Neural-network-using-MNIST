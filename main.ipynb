{
 "cells": [
  {
   "cell_type": "code",
   "execution_count": 27,
   "id": "f1d7387c",
   "metadata": {},
   "outputs": [],
   "source": [
    "import numpy, scipy.special\n",
    "\n",
    "class neuralNetwork:\n",
    "    def __init__(self, input_nodes, hidden_nodes, output_nodes, learning_rate):\n",
    "        # nodes\n",
    "        self.input_nodes = input_nodes\n",
    "        self.hidden_nodes = hidden_nodes\n",
    "        self.output_nodes = output_nodes\n",
    "        \n",
    "        # weights between input and hidden layers\n",
    "        self.wih = numpy.random.normal(0.0, pow(self.hidden_nodes, -0.5),\\\n",
    "        (self.hidden_nodes, self.input_nodes))\n",
    "        \n",
    "        # weights between hidden and output layers\n",
    "        self.who = numpy.random.normal(0.0, pow(self.output_nodes, -0.5),\\\n",
    "        (self.output_nodes, self.hidden_nodes))\n",
    "        \n",
    "        # learing rate\n",
    "        self.learning_rate = learning_rate\n",
    "        \n",
    "        # activation\n",
    "        self.activation_function = lambda x : scipy.special.expit(x)\n",
    "        \n",
    "    def train(self, inputs_list, targets_list):\n",
    "        inputs = numpy.array(inputs_list, ndmin = 2).T\n",
    "        targets = numpy.array(targets_list, ndmin = 2).T\n",
    "        \n",
    "        hidden_inputs = numpy.dot(self.wih, inputs)\n",
    "        hidden_outputs = self.activation_function(hidden_inputs)\n",
    "        \n",
    "        final_inputs = numpy.dot(self.who, hidden_outputs)\n",
    "        final_outputs = self.activation_function(final_inputs)\n",
    "        \n",
    "        output_errors = targets - final_outputs\n",
    "        hidden_errors = numpy.dot(self.who.T, output_errors)\n",
    "        \n",
    "        self.who += self.learning_rate * numpy.dot( (output_errors *\\\n",
    "        final_outputs * (1 - final_outputs)), numpy.transpose(hidden_outputs))\n",
    "        \n",
    "        self.wih += self.learning_rate * numpy.dot( (hidden_errors *\\\n",
    "        hidden_outputs * (1 - hidden_outputs)), numpy.transpose(inputs))\n",
    "        \n",
    "        pass\n",
    "        \n",
    "    def query(self, inputs_list):\n",
    "        # inputs list -> 2D array: [1.0, 0.5, -1.5] -> [[ 1. ], [ 0.5], [-1.5]]\n",
    "        inputs = numpy.array(inputs_list, ndmin = 2).T \n",
    "        \n",
    "        hidden_inputs = numpy.dot(self.wih, inputs)\n",
    "        hidden_outputs = self.activation_function(hidden_inputs)\n",
    "        \n",
    "        final_inputs = numpy.dot(self.who, hidden_outputs)\n",
    "        final_outputs = self.activation_function(final_inputs)\n",
    "        \n",
    "        return final_outputs"
   ]
  },
  {
   "cell_type": "code",
   "execution_count": 30,
   "id": "65f18f8f",
   "metadata": {
    "scrolled": true
   },
   "outputs": [
    {
     "data": {
      "text/plain": [
       "array([[0.47807981],\n",
       "       [0.41060239],\n",
       "       [0.57246703]])"
      ]
     },
     "execution_count": 30,
     "metadata": {},
     "output_type": "execute_result"
    }
   ],
   "source": [
    "input_nodes = 3\n",
    "hidden_nodes = 3\n",
    "output_nodes = 3\n",
    "\n",
    "learning_rate = 0.3\n",
    "\n",
    "n = neuralNetwork(input_nodes, hidden_nodes, output_nodes, learning_rate)\n",
    "n.query([1.0, 0.5, -1.5])"
   ]
  }
 ],
 "metadata": {
  "kernelspec": {
   "display_name": "Python 3 (ipykernel)",
   "language": "python",
   "name": "python3"
  },
  "language_info": {
   "codemirror_mode": {
    "name": "ipython",
    "version": 3
   },
   "file_extension": ".py",
   "mimetype": "text/x-python",
   "name": "python",
   "nbconvert_exporter": "python",
   "pygments_lexer": "ipython3",
   "version": "3.9.13"
  }
 },
 "nbformat": 4,
 "nbformat_minor": 5
}
